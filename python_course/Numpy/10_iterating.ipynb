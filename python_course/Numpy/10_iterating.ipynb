{
 "cells": [
  {
   "cell_type": "code",
   "execution_count": 6,
   "metadata": {},
   "outputs": [
    {
     "name": "stdout",
     "output_type": "stream",
     "text": [
      "[[4 2 1]\n",
      " [2 4 1]\n",
      " [1 3 1]]\n"
     ]
    }
   ],
   "source": [
    "import numpy as np\n",
    "\n",
    "# Define the array\n",
    "arr = np.array([[9, 2, 1],\n",
    "                [7, 4, 1],\n",
    "                [6, 3, 1]])\n",
    "\n",
    "# Create an iterator\n",
    "it = np.nditer(arr, flags=['multi_index'], op_flags=['readwrite'])\n",
    "\n",
    "# Iterate over the array\n",
    "while not it.finished:\n",
    "    if it[0] > 5:\n",
    "        it[0] = it[0] - 5  # Example modification\n",
    "    it.iternext()\n",
    "\n",
    "print(arr)\n"
   ]
  },
  {
   "cell_type": "code",
   "execution_count": 2,
   "metadata": {},
   "outputs": [
    {
     "name": "stdout",
     "output_type": "stream",
     "text": [
      "[[4 2 1]\n",
      " [2 4 1]\n",
      " [1 3 1]]\n"
     ]
    }
   ],
   "source": [
    "import numpy as np\n",
    "\n",
    "# Define the array\n",
    "arr = np.array([[9, 2, 1],\n",
    "                [7, 4, 1],\n",
    "                [6, 3, 1]])\n",
    "\n",
    "# Apply condition and modify elements\n",
    "arr[arr > 5] -= 5  # Subtract 5 from elements greater than 5\n",
    "\n",
    "print(arr)\n"
   ]
  },
  {
   "cell_type": "code",
   "execution_count": 3,
   "metadata": {},
   "outputs": [
    {
     "name": "stdout",
     "output_type": "stream",
     "text": [
      "[[4 2 1]\n",
      " [2 4 1]\n",
      " [1 3 1]]\n"
     ]
    }
   ],
   "source": [
    "import numpy as np\n",
    "\n",
    "# Define the array\n",
    "arr = np.array([[9, 2, 1],\n",
    "                [7, 4, 1],\n",
    "                [6, 3, 1]])\n",
    "\n",
    "# Use np.where to apply condition and modify elements\n",
    "arr = np.where(arr > 5, arr - 5, arr)\n",
    "\n",
    "print(arr)\n"
   ]
  },
  {
   "cell_type": "code",
   "execution_count": null,
   "metadata": {},
   "outputs": [],
   "source": []
  }
 ],
 "metadata": {
  "kernelspec": {
   "display_name": "Python 3",
   "language": "python",
   "name": "python3"
  },
  "language_info": {
   "codemirror_mode": {
    "name": "ipython",
    "version": 3
   },
   "file_extension": ".py",
   "mimetype": "text/x-python",
   "name": "python",
   "nbconvert_exporter": "python",
   "pygments_lexer": "ipython3",
   "version": "3.11.2"
  }
 },
 "nbformat": 4,
 "nbformat_minor": 2
}

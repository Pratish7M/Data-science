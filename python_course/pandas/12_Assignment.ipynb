{
 "cells": [
  {
   "cell_type": "code",
   "execution_count": 4,
   "metadata": {},
   "outputs": [
    {
     "data": {
      "text/plain": [
       "array(['Machine Learning', 3], dtype=object)"
      ]
     },
     "execution_count": 4,
     "metadata": {},
     "output_type": "execute_result"
    }
   ],
   "source": [
    "'''\n",
    "Q1. Write a code to print the data present in the second row of the dataframe, df.'''\n",
    "\n",
    "import pandas as pd\n",
    "course_name = ['Data Science', 'Machine Learning', 'Big Data', 'Data Engineer']\n",
    "duration = [2,3,6,4]\n",
    "df = pd.DataFrame(data = {'course_name' : course_name, 'duration' : duration})\n",
    "\n",
    "df.iloc[1]\n",
    "df.values[1]"
   ]
  },
  {
   "cell_type": "code",
   "execution_count": 5,
   "metadata": {},
   "outputs": [
    {
     "data": {
      "text/plain": [
       "'Q2. What is the difference between the functions loc and iloc in pandas.DataFrame?'"
      ]
     },
     "execution_count": 5,
     "metadata": {},
     "output_type": "execute_result"
    }
   ],
   "source": [
    "'''Q2. What is the difference between the functions loc and iloc in pandas.DataFrame?'''"
   ]
  },
  {
   "cell_type": "code",
   "execution_count": 12,
   "metadata": {},
   "outputs": [
    {
     "name": "stdout",
     "output_type": "stream",
     "text": [
      "Reindexed DataFrame:\n",
      "        course_name  duration\n",
      "3     Data Engineer         4\n",
      "0      Data Science         2\n",
      "1  Machine Learning         3\n",
      "2          Big Data         6\n",
      "\n",
      "new_df.loc[2]:\n",
      "course_name    Big Data\n",
      "duration              6\n",
      "Name: 2, dtype: object\n",
      "\n",
      "new_df.iloc[2]:\n",
      "course_name    Machine Learning\n",
      "duration                      3\n",
      "Name: 1, dtype: object\n"
     ]
    }
   ],
   "source": [
    "'''Q3. Reindex the given dataframe using a variable, reindex = [3,0,1,2] and store it in the variable, new_df\n",
    "then find the output for both new_df.loc[2] and new_df.iloc[2].'''\n",
    "\n",
    "import pandas as pd\n",
    "\n",
    "# Create the DataFrame\n",
    "course_name = ['Data Science', 'Machine Learning', 'Big Data', 'Data Engineer']\n",
    "duration = [2, 3, 6, 4]\n",
    "df = pd.DataFrame(data={'course_name': course_name, 'duration': duration})\n",
    "\n",
    "# Reindex the DataFrame and store it in a new variable\n",
    "reindex = [3, 0, 1, 2]\n",
    "new_df = df.reindex(reindex)\n",
    "\n",
    "# Print the reindexed DataFrame\n",
    "print(\"Reindexed DataFrame:\")\n",
    "print(new_df)\n",
    "\n",
    "# Access the row with label 2 using loc\n",
    "loc_2 = new_df.loc[2]\n",
    "print(\"\\nnew_df.loc[2]:\")\n",
    "print(loc_2)\n",
    "\n",
    "# Access the row at integer position 2 using iloc\n",
    "iloc_2 = new_df.iloc[2]\n",
    "print(\"\\nnew_df.iloc[2]:\")\n",
    "print(iloc_2)\n",
    "\n"
   ]
  },
  {
   "cell_type": "code",
   "execution_count": 8,
   "metadata": {},
   "outputs": [
    {
     "name": "stdout",
     "output_type": "stream",
     "text": [
      "orignal table    column_1  column_2  column_3  column_4  column_5  column_6\n",
      "1  0.438098  0.025693  0.925240  0.134756  0.637437  0.722912\n",
      "2  0.745491  0.684179  0.544916  0.744688  0.226569  0.672973\n",
      "3  0.328316  0.820147  0.465042  0.983429  0.560794  0.228926\n",
      "4  0.523666  0.594432  0.965662  0.090682  0.724260  0.429796\n",
      "5  0.471342  0.716901  0.845637  0.000586  0.977184  0.601996\n",
      "6  0.834013  0.297624  0.547326  0.871572  0.496822  0.480604\n",
      "mean \n",
      " column_1    0.556821\n",
      "column_2    0.523163\n",
      "column_3    0.715637\n",
      "column_4    0.470952\n",
      "column_5    0.603844\n",
      "column_6    0.522868\n",
      "dtype: float64\n",
      "standard deviation of column 2 :  0.3016896688635311\n"
     ]
    }
   ],
   "source": [
    "'''Q4. Write a code to find the following statistical measurements for the above dataframe df1:\n",
    "(i) mean of each and every column present in the dataframe.\n",
    "(ii) standard deviation of column, ‘column_2’'''\n",
    "\n",
    "import pandas as pd\n",
    "import numpy as np\n",
    "columns = ['column_1', 'column_2', 'column_3', 'column_4', 'column_5', 'column_6']\n",
    "indices = [1,2,3,4,5,6]\n",
    "#Creating a dataframe:\n",
    "df1 = pd.DataFrame(np.random.rand(6,6), columns = columns, index = indices)\n",
    "print(\"orignal table\",df1)\n",
    "\n",
    "# find mean\n",
    "print(\"mean \\n\",df1.mean())\n",
    "\n",
    "# standard deviation of column 2\n",
    "print(\"standard deviation of column 2 : \",df1[\"column_2\"].std())"
   ]
  },
  {
   "cell_type": "code",
   "execution_count": 16,
   "metadata": {},
   "outputs": [
    {
     "name": "stdout",
     "output_type": "stream",
     "text": [
      "   column_1  column_2  column_3  column_4  column_5  column_6\n",
      "1  0.438098  0.025693  0.925240  0.134756  0.637437  0.722912\n",
      "2  1.000000  2.000000  3.000000  4.000000  5.000000  6.000000\n",
      "3  1.000000  2.000000  3.000000  4.000000  5.000000  6.000000\n",
      "4  0.523666  0.594432  0.965662  0.090682  0.724260  0.429796\n",
      "5  0.471342  0.716901  0.845637  0.000586  0.977184  0.601996\n",
      "6  0.834013  0.297624  0.547326  0.871572  0.496822  0.480604\n"
     ]
    },
    {
     "name": "stderr",
     "output_type": "stream",
     "text": [
      "C:\\Users\\HP\\AppData\\Local\\Temp\\ipykernel_13352\\1660102762.py:9: FutureWarning: Setting an item of incompatible dtype is deprecated and will raise an error in a future version of pandas. Value 'a' has dtype incompatible with float64, please explicitly cast to a compatible dtype first.\n",
      "  df1.loc[2] = [\"a\",\"b\",\"c\",\"d\",\"e\",\"f\"]\n",
      "C:\\Users\\HP\\AppData\\Local\\Temp\\ipykernel_13352\\1660102762.py:9: FutureWarning: Setting an item of incompatible dtype is deprecated and will raise an error in a future version of pandas. Value 'b' has dtype incompatible with float64, please explicitly cast to a compatible dtype first.\n",
      "  df1.loc[2] = [\"a\",\"b\",\"c\",\"d\",\"e\",\"f\"]\n",
      "C:\\Users\\HP\\AppData\\Local\\Temp\\ipykernel_13352\\1660102762.py:9: FutureWarning: Setting an item of incompatible dtype is deprecated and will raise an error in a future version of pandas. Value 'c' has dtype incompatible with float64, please explicitly cast to a compatible dtype first.\n",
      "  df1.loc[2] = [\"a\",\"b\",\"c\",\"d\",\"e\",\"f\"]\n",
      "C:\\Users\\HP\\AppData\\Local\\Temp\\ipykernel_13352\\1660102762.py:9: FutureWarning: Setting an item of incompatible dtype is deprecated and will raise an error in a future version of pandas. Value 'd' has dtype incompatible with float64, please explicitly cast to a compatible dtype first.\n",
      "  df1.loc[2] = [\"a\",\"b\",\"c\",\"d\",\"e\",\"f\"]\n",
      "C:\\Users\\HP\\AppData\\Local\\Temp\\ipykernel_13352\\1660102762.py:9: FutureWarning: Setting an item of incompatible dtype is deprecated and will raise an error in a future version of pandas. Value 'e' has dtype incompatible with float64, please explicitly cast to a compatible dtype first.\n",
      "  df1.loc[2] = [\"a\",\"b\",\"c\",\"d\",\"e\",\"f\"]\n",
      "C:\\Users\\HP\\AppData\\Local\\Temp\\ipykernel_13352\\1660102762.py:9: FutureWarning: Setting an item of incompatible dtype is deprecated and will raise an error in a future version of pandas. Value 'f' has dtype incompatible with float64, please explicitly cast to a compatible dtype first.\n",
      "  df1.loc[2] = [\"a\",\"b\",\"c\",\"d\",\"e\",\"f\"]\n"
     ]
    },
    {
     "data": {
      "text/html": [
       "<div>\n",
       "<style scoped>\n",
       "    .dataframe tbody tr th:only-of-type {\n",
       "        vertical-align: middle;\n",
       "    }\n",
       "\n",
       "    .dataframe tbody tr th {\n",
       "        vertical-align: top;\n",
       "    }\n",
       "\n",
       "    .dataframe thead th {\n",
       "        text-align: right;\n",
       "    }\n",
       "</style>\n",
       "<table border=\"1\" class=\"dataframe\">\n",
       "  <thead>\n",
       "    <tr style=\"text-align: right;\">\n",
       "      <th></th>\n",
       "      <th>column_1</th>\n",
       "      <th>column_2</th>\n",
       "      <th>column_3</th>\n",
       "      <th>column_4</th>\n",
       "      <th>column_5</th>\n",
       "      <th>column_6</th>\n",
       "    </tr>\n",
       "  </thead>\n",
       "  <tbody>\n",
       "    <tr>\n",
       "      <th>1</th>\n",
       "      <td>0.438098</td>\n",
       "      <td>0.025693</td>\n",
       "      <td>0.92524</td>\n",
       "      <td>0.134756</td>\n",
       "      <td>0.637437</td>\n",
       "      <td>0.722912</td>\n",
       "    </tr>\n",
       "    <tr>\n",
       "      <th>2</th>\n",
       "      <td>a</td>\n",
       "      <td>b</td>\n",
       "      <td>c</td>\n",
       "      <td>d</td>\n",
       "      <td>e</td>\n",
       "      <td>f</td>\n",
       "    </tr>\n",
       "    <tr>\n",
       "      <th>3</th>\n",
       "      <td>1.0</td>\n",
       "      <td>2.0</td>\n",
       "      <td>3.0</td>\n",
       "      <td>4.0</td>\n",
       "      <td>5.0</td>\n",
       "      <td>6.0</td>\n",
       "    </tr>\n",
       "    <tr>\n",
       "      <th>4</th>\n",
       "      <td>0.523666</td>\n",
       "      <td>0.594432</td>\n",
       "      <td>0.965662</td>\n",
       "      <td>0.090682</td>\n",
       "      <td>0.72426</td>\n",
       "      <td>0.429796</td>\n",
       "    </tr>\n",
       "    <tr>\n",
       "      <th>5</th>\n",
       "      <td>0.471342</td>\n",
       "      <td>0.716901</td>\n",
       "      <td>0.845637</td>\n",
       "      <td>0.000586</td>\n",
       "      <td>0.977184</td>\n",
       "      <td>0.601996</td>\n",
       "    </tr>\n",
       "    <tr>\n",
       "      <th>6</th>\n",
       "      <td>0.834013</td>\n",
       "      <td>0.297624</td>\n",
       "      <td>0.547326</td>\n",
       "      <td>0.871572</td>\n",
       "      <td>0.496822</td>\n",
       "      <td>0.480604</td>\n",
       "    </tr>\n",
       "  </tbody>\n",
       "</table>\n",
       "</div>"
      ],
      "text/plain": [
       "   column_1  column_2  column_3  column_4  column_5  column_6\n",
       "1  0.438098  0.025693   0.92524  0.134756  0.637437  0.722912\n",
       "2         a         b         c         d         e         f\n",
       "3       1.0       2.0       3.0       4.0       5.0       6.0\n",
       "4  0.523666  0.594432  0.965662  0.090682   0.72426  0.429796\n",
       "5  0.471342  0.716901  0.845637  0.000586  0.977184  0.601996\n",
       "6  0.834013  0.297624  0.547326  0.871572  0.496822  0.480604"
      ]
     },
     "execution_count": 16,
     "metadata": {},
     "output_type": "execute_result"
    }
   ],
   "source": [
    "'''Q5. Replace the data present in the second row of column, ‘column_2’ by a string variable then find the\n",
    "mean of column, column_2.\n",
    "If you are getting errors in executing it then explain why.\n",
    "[Hint: To replace the data use df1.loc[] and equate this to string data of your choice.]'''\n",
    "\n",
    "print(df1)\n",
    "\n",
    "# replace the data\n",
    "df1.loc[2] = [\"a\",\"b\",\"c\",\"d\",\"e\",\"f\"]\n",
    "df1"
   ]
  },
  {
   "cell_type": "code",
   "execution_count": 23,
   "metadata": {},
   "outputs": [
    {
     "data": {
      "text/html": [
       "<div>\n",
       "<style scoped>\n",
       "    .dataframe tbody tr th:only-of-type {\n",
       "        vertical-align: middle;\n",
       "    }\n",
       "\n",
       "    .dataframe tbody tr th {\n",
       "        vertical-align: top;\n",
       "    }\n",
       "\n",
       "    .dataframe thead th {\n",
       "        text-align: right;\n",
       "    }\n",
       "</style>\n",
       "<table border=\"1\" class=\"dataframe\">\n",
       "  <thead>\n",
       "    <tr style=\"text-align: right;\">\n",
       "      <th></th>\n",
       "      <th>data_column</th>\n",
       "      <th>rolling_mean</th>\n",
       "      <th>expanding_sum</th>\n",
       "      <th>ewm_mean</th>\n",
       "      <th>custom_window</th>\n",
       "    </tr>\n",
       "  </thead>\n",
       "  <tbody>\n",
       "    <tr>\n",
       "      <th>0</th>\n",
       "      <td>10</td>\n",
       "      <td>NaN</td>\n",
       "      <td>10.0</td>\n",
       "      <td>10.000000</td>\n",
       "      <td>NaN</td>\n",
       "    </tr>\n",
       "    <tr>\n",
       "      <th>1</th>\n",
       "      <td>20</td>\n",
       "      <td>NaN</td>\n",
       "      <td>30.0</td>\n",
       "      <td>16.666667</td>\n",
       "      <td>NaN</td>\n",
       "    </tr>\n",
       "    <tr>\n",
       "      <th>2</th>\n",
       "      <td>30</td>\n",
       "      <td>20.0</td>\n",
       "      <td>60.0</td>\n",
       "      <td>24.285714</td>\n",
       "      <td>40.0</td>\n",
       "    </tr>\n",
       "    <tr>\n",
       "      <th>3</th>\n",
       "      <td>40</td>\n",
       "      <td>30.0</td>\n",
       "      <td>100.0</td>\n",
       "      <td>32.666667</td>\n",
       "      <td>60.0</td>\n",
       "    </tr>\n",
       "    <tr>\n",
       "      <th>4</th>\n",
       "      <td>50</td>\n",
       "      <td>40.0</td>\n",
       "      <td>150.0</td>\n",
       "      <td>41.612903</td>\n",
       "      <td>80.0</td>\n",
       "    </tr>\n",
       "    <tr>\n",
       "      <th>5</th>\n",
       "      <td>60</td>\n",
       "      <td>50.0</td>\n",
       "      <td>210.0</td>\n",
       "      <td>50.952381</td>\n",
       "      <td>100.0</td>\n",
       "    </tr>\n",
       "    <tr>\n",
       "      <th>6</th>\n",
       "      <td>70</td>\n",
       "      <td>60.0</td>\n",
       "      <td>280.0</td>\n",
       "      <td>60.551181</td>\n",
       "      <td>120.0</td>\n",
       "    </tr>\n",
       "    <tr>\n",
       "      <th>7</th>\n",
       "      <td>80</td>\n",
       "      <td>70.0</td>\n",
       "      <td>360.0</td>\n",
       "      <td>70.313725</td>\n",
       "      <td>140.0</td>\n",
       "    </tr>\n",
       "    <tr>\n",
       "      <th>8</th>\n",
       "      <td>90</td>\n",
       "      <td>80.0</td>\n",
       "      <td>450.0</td>\n",
       "      <td>80.176125</td>\n",
       "      <td>160.0</td>\n",
       "    </tr>\n",
       "    <tr>\n",
       "      <th>9</th>\n",
       "      <td>100</td>\n",
       "      <td>90.0</td>\n",
       "      <td>550.0</td>\n",
       "      <td>90.097752</td>\n",
       "      <td>180.0</td>\n",
       "    </tr>\n",
       "  </tbody>\n",
       "</table>\n",
       "</div>"
      ],
      "text/plain": [
       "   data_column  rolling_mean  expanding_sum   ewm_mean  custom_window\n",
       "0           10           NaN           10.0  10.000000            NaN\n",
       "1           20           NaN           30.0  16.666667            NaN\n",
       "2           30          20.0           60.0  24.285714           40.0\n",
       "3           40          30.0          100.0  32.666667           60.0\n",
       "4           50          40.0          150.0  41.612903           80.0\n",
       "5           60          50.0          210.0  50.952381          100.0\n",
       "6           70          60.0          280.0  60.551181          120.0\n",
       "7           80          70.0          360.0  70.313725          140.0\n",
       "8           90          80.0          450.0  80.176125          160.0\n",
       "9          100          90.0          550.0  90.097752          180.0"
      ]
     },
     "execution_count": 23,
     "metadata": {},
     "output_type": "execute_result"
    }
   ],
   "source": [
    "'''Q6. What do you understand about the windows function in pandas and list the types of windows\n",
    "functions?'''\n",
    "\n",
    "\n",
    "\n",
    "'''In pandas, a windows function allows you to perform operations on a sliding window of data \n",
    "points, which is useful for various statistical, analytical, and time-series operations. \n",
    "These functions help in calculating rolling statistics like moving averages, cumulative sums, \n",
    "and exponentially weighted calculations.\n",
    "\n",
    "Types of Windows Functions in pandas\n",
    "Rolling Window Functions:\n",
    "\n",
    "These functions operate on a rolling or sliding window of fixed size, applying a function to each \n",
    "window. Examples include:\n",
    "rolling(): Used to calculate rolling statistics.\n",
    "Common methods: mean(), sum(), min(), max(), std(), var(), median(), apply(), etc. '''\n",
    "\n",
    "data = {\"data_column\" : [10, 20, 30, 40, 50, 60, 70, 80, 90, 100] }\n",
    "df = pd.DataFrame(data)\n",
    "\n",
    "df['rolling_mean'] = df['data_column'].rolling(window=3).mean()\n",
    "\n",
    "df['expanding_sum'] = df['data_column'].expanding().sum()\n",
    "\n",
    "df['ewm_mean'] = df['data_column'].ewm(span=3).mean()\n",
    "\n",
    "df['custom_window'] = df['data_column'].rolling(window=3, win_type='triang').sum()\n",
    "\n",
    "df"
   ]
  },
  {
   "cell_type": "code",
   "execution_count": 30,
   "metadata": {},
   "outputs": [
    {
     "name": "stdout",
     "output_type": "stream",
     "text": [
      "current_date 2024-07-17 21:49:09.591171\n",
      " month : 7 & year : 2024\n"
     ]
    }
   ],
   "source": [
    "'''Q7. Write a code to print only the current month and year at the time of answering this question.\n",
    "[Hint: Use pandas.datetime function]'''\n",
    "\n",
    "import pandas as pd\n",
    "\n",
    "# Get the current date and time\n",
    "current_date = pd.Timestamp.now()\n",
    "print(\"current_date\",current_date)\n",
    "\n",
    "# Extract the current month and year\n",
    "currenr_year = current_date.year\n",
    "current_month = current_date.month\n",
    "\n",
    "print(f\" month : {current_month} & year : {currenr_year}\")\n"
   ]
  },
  {
   "cell_type": "code",
   "execution_count": 32,
   "metadata": {},
   "outputs": [
    {
     "name": "stdout",
     "output_type": "stream",
     "text": [
      "Difference: -366 days, 0 hours, and 0 minutes\n"
     ]
    }
   ],
   "source": [
    "'''Q8. Write a Python program that takes in two dates as input (in the format YYYY-MM-DD) and\n",
    "calculates the difference between them in days, hours, and minutes using Pandas time delta. The\n",
    "program should prompt the user to enter the dates and display the result.'''\n",
    "\n",
    "import pandas as pd\n",
    "\n",
    "# Function to calculate the difference between two dates\n",
    "def calculate_date_difference(date1, date2):\n",
    "    # Convert the input strings to pandas Timestamps\n",
    "    date1 = pd.Timestamp(date1)\n",
    "    date2 = pd.Timestamp(date2)\n",
    "    \n",
    "    # Calculate the difference\n",
    "    difference = date2 - date1\n",
    "    \n",
    "    # Extract the difference in days, hours, and minutes\n",
    "    days = difference.days\n",
    "    seconds = difference.seconds\n",
    "    hours = seconds // 3600\n",
    "    minutes = (seconds % 3600) // 60\n",
    "    \n",
    "    return days, hours, minutes\n",
    "\n",
    "# Prompt the user to enter the two dates\n",
    "date1 = input(\"Enter the first date (YYYY-MM-DD): \")\n",
    "date2 = input(\"Enter the second date (YYYY-MM-DD): \")\n",
    "\n",
    "# Calculate the difference\n",
    "days, hours, minutes = calculate_date_difference(date1, date2)\n",
    "\n",
    "# Display the result\n",
    "print(f\"Difference: {days} days, {hours} hours, and {minutes} minutes\")\n"
   ]
  },
  {
   "cell_type": "code",
   "execution_count": 34,
   "metadata": {},
   "outputs": [
    {
     "data": {
      "text/plain": [
       "1        Bob\n",
       "2    Charlie\n",
       "Name: name, dtype: object"
      ]
     },
     "execution_count": 34,
     "metadata": {},
     "output_type": "execute_result"
    }
   ],
   "source": [
    "import pandas as pd\n",
    "\n",
    " \n",
    "\n",
    "data = {'name': ['Alice', 'Bob', 'Charlie'], 'age': [30, 25, 40]}\n",
    "\n",
    "df = pd.DataFrame(data)\n",
    "\n",
    " \n",
    "\n",
    "df_subset = df.loc[1:2, 'name']\n",
    "df_subset"
   ]
  },
  {
   "cell_type": "code",
   "execution_count": null,
   "metadata": {},
   "outputs": [],
   "source": []
  }
 ],
 "metadata": {
  "kernelspec": {
   "display_name": "Python 3",
   "language": "python",
   "name": "python3"
  },
  "language_info": {
   "codemirror_mode": {
    "name": "ipython",
    "version": 3
   },
   "file_extension": ".py",
   "mimetype": "text/x-python",
   "name": "python",
   "nbconvert_exporter": "python",
   "pygments_lexer": "ipython3",
   "version": "3.11.2"
  }
 },
 "nbformat": 4,
 "nbformat_minor": 2
}

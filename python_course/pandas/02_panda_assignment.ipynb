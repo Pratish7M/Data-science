{
 "cells": [
  {
   "cell_type": "code",
   "execution_count": 13,
   "metadata": {},
   "outputs": [],
   "source": [
    "'''Q1. Create a Pandas Series that contains the following data: 4, 8, 15, 16, 23, and 42. \n",
    "Then, print the series.'''\n",
    "\n",
    "import pandas as pd\n",
    "\n",
    "data = [4,8,15,16,23,42]\n",
    "\n",
    "seriesx = pd.Series(data)\n"
   ]
  },
  {
   "cell_type": "code",
   "execution_count": 14,
   "metadata": {},
   "outputs": [
    {
     "data": {
      "text/plain": [
       "0     4\n",
       "1     8\n",
       "2    15\n",
       "3    16\n",
       "4    23\n",
       "5    42\n",
       "dtype: int64"
      ]
     },
     "execution_count": 14,
     "metadata": {},
     "output_type": "execute_result"
    }
   ],
   "source": [
    "seriesx"
   ]
  },
  {
   "cell_type": "code",
   "execution_count": 15,
   "metadata": {},
   "outputs": [
    {
     "data": {
      "text/plain": [
       "pandas.core.series.Series"
      ]
     },
     "execution_count": 15,
     "metadata": {},
     "output_type": "execute_result"
    }
   ],
   "source": [
    "type(seriesx)"
   ]
  },
  {
   "cell_type": "code",
   "execution_count": 27,
   "metadata": {},
   "outputs": [
    {
     "name": "stdout",
     "output_type": "stream",
     "text": [
      "[10, 11, 12, 13, 14, 15, 16, 17, 18, 19]\n",
      "\n",
      " 0    10\n",
      "1    11\n",
      "2    12\n",
      "3    13\n",
      "4    14\n",
      "5    15\n",
      "6    16\n",
      "7    17\n",
      "8    18\n",
      "9    19\n",
      "dtype: int64\n"
     ]
    }
   ],
   "source": [
    "'''Q2. Create a variable of list type containing 10 elements in it, and apply pandas.Series function on the\n",
    "variable print it.'''\n",
    "\n",
    "data = range(10,20)\n",
    "print(list(data[0:]))\n",
    "\n",
    "series = pd.Series(data)\n",
    "print(\"\\n\",series)\n",
    "\n"
   ]
  },
  {
   "cell_type": "code",
   "execution_count": 28,
   "metadata": {},
   "outputs": [
    {
     "name": "stdout",
     "output_type": "stream",
     "text": [
      "      Name  Age  Gender\n",
      "0  pratish   22    Male\n",
      "1   sakshi   22  Female\n",
      "2     Jaya   21  Female\n"
     ]
    }
   ],
   "source": [
    "'''Create a Pandas DataFrame that contains the following data: Name , Age , Gender'''\n",
    "\n",
    "data = {\n",
    "    \"Name\" : [\"pratish\",\"sakshi\",\"Jaya\"],\n",
    "    \"Age\" : [22 , 22 , 21],\n",
    "    \"Gender\" : [\"Male\", \"Female\", \"Female\"]\n",
    "\n",
    "}\n",
    "\n",
    "df = pd.DataFrame(data)\n",
    "\n",
    "print(df)"
   ]
  },
  {
   "cell_type": "code",
   "execution_count": 33,
   "metadata": {},
   "outputs": [
    {
     "name": "stdout",
     "output_type": "stream",
     "text": [
      "0     11\n",
      "1     12\n",
      "2     13\n",
      "3     14\n",
      "4    151\n",
      "5      6\n",
      "Name: numbers, dtype: int64 \n",
      "\n",
      " and the type of df1 : <class 'pandas.core.series.Series'>\n",
      "\n",
      "\n",
      "\n",
      "      Name                   Role  Age\n",
      "0  pratish  Senior Data Scientist   23\n",
      "1   junior                   None   25 \n",
      " And the type of df2 : <class 'pandas.core.frame.DataFrame'>\n"
     ]
    }
   ],
   "source": [
    "'''Q4. What is ‘DataFrame’ in pandas and how is it different from pandas.series? Explain with an example.'''\n",
    "\n",
    "\n",
    "'''A DataFrame in Pandas is a two-dimensional, size-mutable, and potentially heterogeneous tabular \n",
    "data structure with labeled axes (rows and columns). It can be thought of as a collection of \n",
    "Series objects sharing the same index.\n",
    "\n",
    "A Series in Pandas, on the other hand, is a one-dimensional array-like object that holds a single \n",
    "column of data along with an index.'''\n",
    "\n",
    "\n",
    "df1 = pd.Series([11,12,13,14,151,6], name=\"numbers\")\n",
    "print(f\"{df1} \\n\\n and the type of df1 : {type(df1)}\")\n",
    "\n",
    "print(\"\\n\\n\")\n",
    "\n",
    "data = {\n",
    "    \"Name\" : [\"pratish\",\"junior\"],\n",
    "    \"Role\" : [\"Senior Data Scientist\", None],\n",
    "    \"Age\" : [23, 25]\n",
    "}\n",
    "\n",
    "df2 = pd.DataFrame(df2)\n",
    "\n",
    "print(f\"{df2} \\n And the type of df2 : {type(df2)}\")"
   ]
  },
  {
   "cell_type": "code",
   "execution_count": 35,
   "metadata": {},
   "outputs": [
    {
     "name": "stdout",
     "output_type": "stream",
     "text": [
      "      name  age  id\n",
      "0    Alice   25   1\n",
      "1      Bob   30   2\n",
      "2  Charlie   35   3\n",
      "\n",
      "\n",
      "        age   id\n",
      "count   3.0  3.0\n",
      "mean   30.0  2.0\n",
      "std     5.0  1.0\n",
      "min    25.0  1.0\n",
      "25%    27.5  1.5\n",
      "50%    30.0  2.0\n",
      "75%    32.5  2.5\n",
      "max    35.0  3.0\n",
      "\n",
      "\n",
      "      name  age  id\n",
      "0    Alice   25   1\n",
      "1      Bob   30   2\n",
      "2  Charlie   35   3\n",
      "\n",
      "\n",
      "      name  age\n",
      "0    Alice   25\n",
      "1      Bob   30\n",
      "2  Charlie   35\n"
     ]
    }
   ],
   "source": [
    "'''Q5. What are some common functions you can use to manipulate data in a Pandas DataFrame? Can\n",
    "you give an example of when you might use one of these functions?'''\n",
    "\n",
    "\n",
    "'''\n",
    "Here is a comprehensive list of common functions available in Pandas for manipulating DataFrames:\n",
    "\n",
    "### Basic DataFrame Operations\n",
    "- **`head(n)`**: Returns the first `n` rows of the DataFrame.\n",
    "- **`tail(n)`**: Returns the last `n` rows of the DataFrame.\n",
    "- **`shape`**: Returns a tuple representing the dimensionality of the DataFrame.\n",
    "- **`info()`**: Provides a summary of the DataFrame, including index dtype and columns, non-null values, and memory usage.\n",
    "- **`describe()`**: Generates descriptive statistics of numeric columns.\n",
    "- **`dtypes`**: Returns the data types of each column.\n",
    "- **`columns`**: Returns the column labels of the DataFrame.\n",
    "- **`index`**: Returns the index labels of the DataFrame.\n",
    "\n",
    "### Data Selection and Filtering\n",
    "- **`loc[]`**: Access a group of rows and columns by labels or a boolean array.\n",
    "- **`iloc[]`**: Access a group of rows and columns by integer positions.\n",
    "- **`at[]`**: Access a single value for a row/column label pair.\n",
    "- **`iat[]`**: Access a single value for a row/column integer position pair.\n",
    "- **`query()`**: Query the DataFrame using a boolean expression.\n",
    "\n",
    "### Data Manipulation\n",
    "- **`sort_values(by, ascending)`**: Sort the DataFrame by one or more columns.\n",
    "- **`sort_index()`**: Sort the DataFrame by index.\n",
    "- **`rename()`**: Rename columns or index labels.\n",
    "- **`set_index()`**: Set the DataFrame index using one or more existing columns.\n",
    "- **`reset_index()`**: Reset the index to the default integer index.\n",
    "- **`drop()`**: Drop specified labels from rows or columns.\n",
    "- **`dropna()`**: Remove missing values.\n",
    "- **`fillna(value)`**: Fill missing values with a specified value.\n",
    "- **`replace()`**: Replace values in the DataFrame.\n",
    "- **`apply()`**: Apply a function along an axis of the DataFrame.\n",
    "- **`applymap()`**: Apply a function to each element of the DataFrame.\n",
    "- **`map()`**: Map values of a Series according to an input correspondence.\n",
    "\n",
    "### Aggregation and Grouping\n",
    "- **`groupby(by)`**: Group DataFrame using a mapper or by series of columns.\n",
    "- **`agg()`**: Aggregate using one or more operations over the specified axis.\n",
    "- **`pivot_table()`**: Create a pivot table as a DataFrame.\n",
    "- **`crosstab()`**: Compute a cross-tabulation of two (or more) factors.\n",
    "- **`transform()`**: Transform data using a function or aggregation.\n",
    "\n",
    "### Merging and Joining\n",
    "- **`merge()`**: Merge DataFrames using a database-style join.\n",
    "- **`join()`**: Join columns of another DataFrame.\n",
    "- **`concat()`**: Concatenate two or more DataFrames along a particular axis.\n",
    "\n",
    "### Data Cleaning and Conversion\n",
    "- **`astype()`**: Cast a DataFrame to a specific dtype.\n",
    "- **`to_datetime()`**: Convert a column to datetime.\n",
    "- **`to_numeric()`**: Convert a column to numeric values.\n",
    "\n",
    "### Data Export and Input\n",
    "- **`to_csv()`**: Export DataFrame to a CSV file.\n",
    "- **`to_excel()`**: Export DataFrame to an Excel file.\n",
    "- **`read_csv()`**: Read a CSV file into a DataFrame.\n",
    "- **`read_excel()`**: Read an Excel file into a DataFrame.\n",
    "\n",
    "\n",
    "\n",
    "These functions cover a wide range of operations for exploring, manipulating, and analyzing data within a DataFrame. '''\n",
    "\n",
    "\n",
    "import pandas as pd\n",
    "\n",
    "# Create a DataFrame\n",
    "data = {\n",
    "    'name': ['Alice', 'Bob', 'Charlie'],\n",
    "    'age': [25, 30, 35],\n",
    "    'id': [1, 2, 3]\n",
    "}\n",
    "df = pd.DataFrame(data)\n",
    "\n",
    "# Example of using some functions\n",
    "print(df.head())                 # Display first 5 rows\n",
    "print(\"\\n\")  \n",
    "\n",
    "print(df.describe())             # Descriptive statistics\n",
    "print(\"\\n\")  \n",
    "\n",
    "print(df.sort_values(by='age'))  # Sort by 'age'\n",
    "print(\"\\n\") \n",
    "\n",
    "print(df.drop(columns=['id']))   # Drop the 'id' column"
   ]
  },
  {
   "cell_type": "code",
   "execution_count": 40,
   "metadata": {},
   "outputs": [
    {
     "name": "stdout",
     "output_type": "stream",
     "text": [
      "0    77\n",
      "1     1\n",
      "2    23\n",
      "3    11\n",
      "dtype: int64 \n",
      "\n",
      "    A   B\n",
      "0  77  21\n",
      "1  12  22\n",
      "2  13  23 \n",
      "\n"
     ]
    },
    {
     "ename": "AttributeError",
     "evalue": "module 'pandas' has no attribute 'panel'",
     "output_type": "error",
     "traceback": [
      "\u001b[1;31m---------------------------------------------------------------------------\u001b[0m",
      "\u001b[1;31mAttributeError\u001b[0m                            Traceback (most recent call last)",
      "Cell \u001b[1;32mIn[40], line 37\u001b[0m\n\u001b[0;32m     33\u001b[0m \u001b[38;5;28mprint\u001b[39m(df5,\u001b[38;5;124m\"\u001b[39m\u001b[38;5;130;01m\\n\u001b[39;00m\u001b[38;5;124m\"\u001b[39m)\n\u001b[0;32m     35\u001b[0m \u001b[38;5;66;03m#\u001b[39;00m\n\u001b[1;32m---> 37\u001b[0m data \u001b[38;5;241m=\u001b[39m \u001b[43mpd\u001b[49m\u001b[38;5;241;43m.\u001b[39;49m\u001b[43mpanel\u001b[49m( { \u001b[38;5;124m\"\u001b[39m\u001b[38;5;124mitem1\u001b[39m\u001b[38;5;124m\"\u001b[39m : pd\u001b[38;5;241m.\u001b[39mDataFrame[ [\u001b[38;5;241m111\u001b[39m,\u001b[38;5;241m222\u001b[39m,\u001b[38;5;241m333\u001b[39m ], [\u001b[38;5;241m444\u001b[39m,\u001b[38;5;241m555\u001b[39m,\u001b[38;5;241m666\u001b[39m]],\n\u001b[0;32m     38\u001b[0m                   \u001b[38;5;124m\"\u001b[39m\u001b[38;5;124mitem2\u001b[39m\u001b[38;5;124m\"\u001b[39m : pd\u001b[38;5;241m.\u001b[39mDataFrame[ [\u001b[38;5;241m000\u001b[39m,\u001b[38;5;241m100\u001b[39m,\u001b[38;5;241m200\u001b[39m],[\u001b[38;5;241m300\u001b[39m,\u001b[38;5;241m400\u001b[39m,\u001b[38;5;241m500\u001b[39m]]})\n\u001b[0;32m     39\u001b[0m \u001b[38;5;28mprint\u001b[39m(data)\n",
      "\u001b[1;31mAttributeError\u001b[0m: module 'pandas' has no attribute 'panel'"
     ]
    }
   ],
   "source": [
    "'''Q6. Which of the following is mutable in nature Series, DataFrame, Panel?'''\n",
    "\n",
    "#Answer \n",
    "\n",
    "'''\n",
    "In Pandas, Series, DataFrame, and Panel (which has been deprecated in favor of DataFrame \n",
    "and MultiIndex for multi-dimensional data) are all mutable in nature. This means you can \n",
    "modify their contents after creation. Here’s a brief overview:\n",
    "\n",
    "Mutable Nature of Each:\n",
    "\n",
    "'''\n",
    "\n",
    "# Series:\n",
    "\n",
    "# Mutable: You can change the values of a Series after it has been created.\n",
    "\n",
    "# Example :\n",
    "\n",
    "df4 = pd.Series([0,1,23,11])\n",
    "df4[0] = 77\n",
    "print(df4, \"\\n\")\n",
    "\n",
    "\n",
    "#DataFrame:'\n",
    "\n",
    "#Mutable: You can change the values of a DataFrame, add new columns, remove columns, or modify rows.\n",
    "\n",
    "#Example:\n",
    "\n",
    "df5 = pd.DataFrame({ \"A\" : [11,12,13], \"B\" : [21,22,23]})\n",
    "df5.at[0,\"A\"] = 77\n",
    "print(df5,\"\\n\")\n",
    "\n",
    "# panel\n",
    "\n",
    "data = pd.panel( { \"item1\" : pd.DataFrame[ [111,222,333 ], [444,555,666]],\n",
    "                  \"item2\" : pd.DataFrame[ [000,100,200],[300,400,500]]})\n",
    "print(data)\n",
    "\n"
   ]
  },
  {
   "cell_type": "code",
   "execution_count": 41,
   "metadata": {},
   "outputs": [
    {
     "data": {
      "text/html": [
       "<div>\n",
       "<style scoped>\n",
       "    .dataframe tbody tr th:only-of-type {\n",
       "        vertical-align: middle;\n",
       "    }\n",
       "\n",
       "    .dataframe tbody tr th {\n",
       "        vertical-align: top;\n",
       "    }\n",
       "\n",
       "    .dataframe thead th {\n",
       "        text-align: right;\n",
       "    }\n",
       "</style>\n",
       "<table border=\"1\" class=\"dataframe\">\n",
       "  <thead>\n",
       "    <tr style=\"text-align: right;\">\n",
       "      <th></th>\n",
       "      <th>name</th>\n",
       "      <th>age</th>\n",
       "      <th>id</th>\n",
       "    </tr>\n",
       "  </thead>\n",
       "  <tbody>\n",
       "    <tr>\n",
       "      <th>0</th>\n",
       "      <td>Alice</td>\n",
       "      <td>25</td>\n",
       "      <td>1</td>\n",
       "    </tr>\n",
       "    <tr>\n",
       "      <th>1</th>\n",
       "      <td>Bob</td>\n",
       "      <td>30</td>\n",
       "      <td>2</td>\n",
       "    </tr>\n",
       "    <tr>\n",
       "      <th>2</th>\n",
       "      <td>Charlie</td>\n",
       "      <td>35</td>\n",
       "      <td>3</td>\n",
       "    </tr>\n",
       "  </tbody>\n",
       "</table>\n",
       "</div>"
      ],
      "text/plain": [
       "      name  age  id\n",
       "0    Alice   25   1\n",
       "1      Bob   30   2\n",
       "2  Charlie   35   3"
      ]
     },
     "execution_count": 41,
     "metadata": {},
     "output_type": "execute_result"
    }
   ],
   "source": [
    "''''''\n",
    "\n",
    "\n",
    "# Creating individual Series\n",
    "name_series = pd.Series(['Alice', 'Bob', 'Charlie'], name='name')\n",
    "age_series = pd.Series([25, 30, 35], name='age')\n",
    "id_series = pd.Series([1, 2, 3], name='id')\n",
    "\n",
    "df7 = pd.concat([name_series,age_series,id_series],axis=1)\n",
    "df7"
   ]
  },
  {
   "cell_type": "code",
   "execution_count": 43,
   "metadata": {},
   "outputs": [
    {
     "data": {
      "text/plain": [
       "0      Alice\n",
       "1        Bob\n",
       "2    Charlie\n",
       "0         25\n",
       "1         30\n",
       "2         35\n",
       "0          1\n",
       "1          2\n",
       "2          3\n",
       "dtype: object"
      ]
     },
     "execution_count": 43,
     "metadata": {},
     "output_type": "execute_result"
    }
   ],
   "source": [
    "df8 = pd.concat([name_series,age_series,id_series],axis=0)\n",
    "df8"
   ]
  },
  {
   "cell_type": "code",
   "execution_count": null,
   "metadata": {},
   "outputs": [],
   "source": []
  }
 ],
 "metadata": {
  "kernelspec": {
   "display_name": "Python 3",
   "language": "python",
   "name": "python3"
  },
  "language_info": {
   "codemirror_mode": {
    "name": "ipython",
    "version": 3
   },
   "file_extension": ".py",
   "mimetype": "text/x-python",
   "name": "python",
   "nbconvert_exporter": "python",
   "pygments_lexer": "ipython3",
   "version": "3.11.2"
  }
 },
 "nbformat": 4,
 "nbformat_minor": 2
}

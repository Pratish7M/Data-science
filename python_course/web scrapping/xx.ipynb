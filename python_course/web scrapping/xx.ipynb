{
 "cells": [
  {
   "cell_type": "code",
   "execution_count": 4,
   "metadata": {},
   "outputs": [],
   "source": [
    "import requests\n",
    "from bs4 import BeautifulSoup\n",
    "\n",
    "def get_first_four_videos(channel_url):\n",
    "    response = requests.get(channel_url)\n",
    "    if response.status_code != 200:\n",
    "        raise Exception(\"Failed to load page\")\n",
    "\n",
    "    soup = BeautifulSoup(response.text, 'html.parser')\n",
    "    videos = []\n",
    "\n",
    "    # Find video elements\n",
    "    video_elements = soup.find_all('a', {'id': 'video-title'}, limit=4)\n",
    "\n",
    "    for video in video_elements:\n",
    "        title = video['title']\n",
    "        video_url = f\"https://www.youtube.com{video['href']}\"\n",
    "        videos.append({\n",
    "            'title': title,\n",
    "            'url': video_url\n",
    "        })\n",
    "\n",
    "    return videos\n",
    "\n",
    "if __name__ == \"__main__\":\n",
    "    CHANNEL_URL = 'https://www.youtube.com/@PW-Foundation/videos'\n",
    "    first_four_videos = get_first_four_videos(CHANNEL_URL)\n",
    "    for idx, video in enumerate(first_four_videos, start=1):\n",
    "        print(f\"Video {idx}:\")\n",
    "        print(f\"  Title: {video['title']}\")\n",
    "        print(f\"  URL: {video['url']}\\n\")\n"
   ]
  }
 ],
 "metadata": {
  "kernelspec": {
   "display_name": "Python 3",
   "language": "python",
   "name": "python3"
  },
  "language_info": {
   "codemirror_mode": {
    "name": "ipython",
    "version": 3
   },
   "file_extension": ".py",
   "mimetype": "text/x-python",
   "name": "python",
   "nbconvert_exporter": "python",
   "pygments_lexer": "ipython3",
   "version": "3.11.2"
  }
 },
 "nbformat": 4,
 "nbformat_minor": 2
}
